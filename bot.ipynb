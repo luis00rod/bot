{
 "cells": [
  {
   "cell_type": "code",
   "execution_count": 1,
   "id": "9ba09f80",
   "metadata": {},
   "outputs": [
    {
     "name": "stderr",
     "output_type": "stream",
     "text": [
      "C:\\Users\\Asus\\anaconda3\\envs\\aaaa\\lib\\site-packages\\scipy\\__init__.py:146: UserWarning: A NumPy version >=1.16.5 and <1.23.0 is required for this version of SciPy (detected version 1.24.2\n",
      "  warnings.warn(f\"A NumPy version >={np_minversion} and <{np_maxversion}\"\n"
     ]
    }
   ],
   "source": [
    "import ccxt\n",
    "import pandas as pd\n",
    "import numpy as np\n",
    "from datetime import datetime\n",
    "from scipy.optimize import brute\n",
    "import requests\n",
    "from binance.client import Client"
   ]
  },
  {
   "cell_type": "code",
   "execution_count": 2,
   "id": "6941d224",
   "metadata": {},
   "outputs": [],
   "source": [
    "api_key = 'dNC0absMhm1yaOQ5dlG9xQabyqIzpNdJo9PJ6l7snb7O17DVWWPtHvQ5GUpgm0Tq'\n",
    "api_secret = 'Xs5Lo26gAAJrAN6Lg4FS9KBkJvKl7zjMP5JRxwTs9IKt1drdLopug6TS8h1asuc9'\n",
    "exchange = ccxt.binance()\n",
    "binance_client = Client(api_key, api_secret)"
   ]
  },
  {
   "cell_type": "code",
   "execution_count": 3,
   "id": "e2acf953",
   "metadata": {},
   "outputs": [],
   "source": [
    "CANDLE_DURATION_IN_MIN = 5\n",
    "\n",
    "# Configuración de símbolos\n",
    "CCXT_TICKER_NAME = 'BTC/USDT'\n",
    "TRADING_TICKER_NAME = 'btcusdt'\n",
    "\n",
    "# Parámetros de la estrategia\n",
    "RSI_PERIOD = 14\n",
    "RSI_OVERSOLD = 30\n",
    "RSI_OVERBOUGHT = 70\n",
    "\n",
    "BB_PERIOD = 20\n",
    "BB_STD_DEV = 2\n",
    "\n",
    "# Parámetros de optimización\n",
    "OPTIMIZATION_PERIODS = (10, 100, 10)\n",
    "\n",
    "# Parámetros de gestión de riesgos\n",
    "MAX_RISK_PERCENTAGE = 0.02"
   ]
  },
  {
   "cell_type": "code",
   "execution_count": 4,
   "id": "37e0bd76",
   "metadata": {},
   "outputs": [],
   "source": [
    "def fetch_data(ticker):\n",
    "    global exchange\n",
    "    bars, ticker_df = None, None\n",
    "\n",
    "    try:\n",
    "        bars = exchange.fetch_ohlcv(ticker, timeframe=f'{CANDLE_DURATION_IN_MIN}m', limit=100)\n",
    "    except:\n",
    "        print(f\"Error in fetching data from the exchange:{ticker}\")\n",
    "\n",
    "    if bars is not None:\n",
    "        ticker_df = pd.DataFrame(bars[:-1], columns=['timestamp', 'open', 'high', 'low', 'close', 'volume'])\n",
    "        ticker_df['Date'] = pd.to_datetime(ticker_df['timestamp'], unit='ms')\n",
    "        ticker_df['symbol'] = ticker\n",
    "\n",
    "    return ticker_df"
   ]
  },
  {
   "cell_type": "code",
   "execution_count": 5,
   "id": "b56efa3c",
   "metadata": {},
   "outputs": [],
   "source": [
    "def get_hash_ribbon_data():\n",
    "    url = \"https://api.blockchain.info/charts/hash-rate?timespan=60days&format=json\"\n",
    "    response = requests.get(url)\n",
    "    \n",
    "    if response.status_code == 200:\n",
    "        data = response.json()[\"values\"]\n",
    "        last_30d_hash_rate = sum([item[\"y\"] for item in data[-30:]])/30\n",
    "        last_60d_hash_rate = sum([item[\"y\"] for item in data[-60:]])/60\n",
    "        return last_30d_hash_rate, last_60d_hash_rate\n",
    "    else:\n",
    "        print(f\"Error fetching Hash Ribbon data: {response.status_code}\")"
   ]
  },
  {
   "cell_type": "code",
   "execution_count": 6,
   "id": "5d74c320",
   "metadata": {},
   "outputs": [],
   "source": [
    "def calculate_volume(ticker_df):\n",
    "    volume = ticker_df['volume'].rolling(window=20).mean()\n",
    "    return volume"
   ]
  },
  {
   "cell_type": "code",
   "execution_count": 7,
   "id": "273fddce",
   "metadata": {},
   "outputs": [],
   "source": [
    "def get_utxo_metrics(df):\n",
    "    df['range'] = df['high'] - df['low']\n",
    "    df['amplitude'] = df['high'] - df['low'].shift(1)\n",
    "    df['volume_flow'] = df['volume'] * (df['close'] - df['open'])\n",
    "    df['volume_rolling_sum'] = df['volume_flow'].rolling(window=10).sum()\n",
    "    df['vortex_pos'] = abs(df['high'] - df['low'].shift(1)) / df['range'].shift(1)\n",
    "    df['vortex_neg'] = abs(df['low'] - df['high'].shift(1)) / df['range'].shift(1)\n",
    "    return df\n"
   ]
  },
  {
   "cell_type": "code",
   "execution_count": 8,
   "id": "5c10b748",
   "metadata": {},
   "outputs": [],
   "source": [
    "def get_dynamic_range_nvt_signal(ticker_df):\n",
    "    circulating_supply = 1000000 # replace this with the actual circulating supply value ARREGLAR\n",
    "    nvt_data = ticker_df['close'] * ticker_df['volume'] / circulating_supply \n",
    "    nvt_signal = nvt_data.rolling(window=24).mean() / nvt_data.rolling(window=144).mean() \n",
    "    return nvt_signal.iloc[-1]"
   ]
  },
  {
   "cell_type": "code",
   "execution_count": 9,
   "id": "e38e6062",
   "metadata": {},
   "outputs": [],
   "source": [
    "def get_metcalfe_law(ticker_df):\n",
    "    active_addresses = ticker_df['volume'] / ticker_df['close']  # Supuesto: active_addresses está relacionado con el volumen y el precio de cierre\n",
    "    metcalfe_law = active_addresses ** 2 / ticker_df['close']  # Supuesto: la circulación se relaciona con el precio de cierre\n",
    "    return metcalfe_law.iloc[-1]"
   ]
  },
  {
   "cell_type": "code",
   "execution_count": 10,
   "id": "5533f763",
   "metadata": {},
   "outputs": [],
   "source": [
    "def get_btc_energy_value_oscillator(ticker_df):\n",
    "    last_30d_hash_rate, last_60d_hash_rate = get_hash_ribbon_data()\n",
    "    energy_value = ticker_df['close'] * ticker_df['volume'] / (last_30d_hash_rate * 10**12)\n",
    "    oscillator = energy_value.rolling(window=28).mean() / energy_value.rolling(window=180).mean() - 1\n",
    "    return oscillator.iloc[-1]"
   ]
  },
  {
   "cell_type": "code",
   "execution_count": 11,
   "id": "d2799bc1",
   "metadata": {},
   "outputs": [],
   "source": [
    "def get_puell_multiple(ticker_df):\n",
    "    btc_mined = ticker_df['volume'].rolling(window=144).sum()\n",
    "    btc_price = ticker_df['close']\n",
    "    puell_multiple = btc_price / (btc_mined / 144 * ticker_df['close'].rolling(window=144).mean())\n",
    "    return puell_multiple.iloc[-1]"
   ]
  },
  {
   "cell_type": "code",
   "execution_count": 12,
   "id": "940933e1",
   "metadata": {},
   "outputs": [],
   "source": [
    "weights = {\n",
    "    'RSI': 0.1,\n",
    "    'MACD': 0.15,\n",
    "    'Bollinger Bands': 0.1,\n",
    "    'Hash Ribbon': 0.1,\n",
    "    'Volume': 0.1,\n",
    "    'UTXO Metrics': 0.1,\n",
    "    'BTC Energy Value Oscillator': 0.1,\n",
    "    \"Metcalfe's Law\": 0.1,\n",
    "    'Puell Multiple': 0.15\n",
    "}\n",
    "\n",
    "threshold = 0.1"
   ]
  },
  {
   "cell_type": "code",
   "execution_count": 13,
   "id": "815cb3c6",
   "metadata": {},
   "outputs": [
    {
     "data": {
      "text/plain": [
       "-0.8319544395574054"
      ]
     },
     "execution_count": 13,
     "metadata": {},
     "output_type": "execute_result"
    }
   ],
   "source": [
    "df = fetch_data(CCXT_TICKER_NAME)\n",
    "price_range = df['high'] - df['low']\n",
    "energy_value = df['volume'] * (price_range / df['close'])\n",
    "energy_value_rolling_mean = energy_value.rolling(window=24).mean()\n",
    "btc_ev_oscillator = (energy_value - energy_value_rolling_mean) / energy_value_rolling_mean\n",
    "BTC_EV_OSCILLATOR_BUY_THRESHOLD = btc_ev_oscillator.quantile(0.1)\n",
    "BTC_EV_OSCILLATOR_BUY_THRESHOLD"
   ]
  },
  {
   "cell_type": "code",
   "execution_count": 14,
   "id": "d4f56016",
   "metadata": {},
   "outputs": [
    {
     "data": {
      "text/plain": [
       "541.8786877744725"
      ]
     },
     "execution_count": 14,
     "metadata": {},
     "output_type": "execute_result"
    }
   ],
   "source": [
    "# calcular la media y desviación estándar del precio de cierre\n",
    "close_prices = df['close']\n",
    "close_mean = close_prices.mean()\n",
    "close_std = close_prices.std()\n",
    "\n",
    "# calcular el valor de METCALFE_MULTIPLIER\n",
    "METCALFE_MULTIPLIER = close_mean / close_std\n",
    "METCALFE_MULTIPLIER"
   ]
  },
  {
   "cell_type": "code",
   "execution_count": 15,
   "id": "f335f01d",
   "metadata": {},
   "outputs": [],
   "source": [
    "def get_trade_recommendation(ticker_df, fast_period, slow_period, weights, threshold):\n",
    "    close_prices = ticker_df['close']\n",
    "\n",
    "    # RSI\n",
    "    delta = close_prices.diff().dropna()\n",
    "    gain = delta.where(delta > 0, 0)\n",
    "    loss = -delta.where(delta < 0, 0)\n",
    "    avg_gain = gain.rolling(window=RSI_PERIOD).mean()\n",
    "    avg_loss = loss.rolling(window=RSI_PERIOD).mean()\n",
    "    rs = avg_gain / avg_loss\n",
    "    rsi = 100 - (100 / (1 + rs))\n",
    "    rsi_weight = weights['RSI']\n",
    "\n",
    "    # MACD\n",
    "    ema_fast = close_prices.ewm(span=fast_period).mean()\n",
    "    ema_slow = close_prices.ewm(span=slow_period).mean()\n",
    "    macd = ema_fast - ema_slow\n",
    "    signal_line = macd.ewm(span=9).mean()\n",
    "    macd_weight = weights['MACD']\n",
    "\n",
    "    # Bollinger Bands\n",
    "    bb_middle = close_prices.rolling(window=BB_PERIOD).mean()\n",
    "    bb_std = close_prices.rolling(window=BB_PERIOD).std()\n",
    "    bb_upper = bb_middle + (BB_STD_DEV * bb_std)\n",
    "    bb_lower = bb_middle - (BB_STD_DEV * bb_std)\n",
    "    bb_weight = weights['Bollinger Bands']\n",
    "\n",
    "    # Hash Ribbon indicator\n",
    "    hashrate_30d_ma, hashrate_60d_ma = get_hash_ribbon_data()\n",
    "    if hashrate_30d_ma is None or hashrate_60d_ma is None:\n",
    "        print(\"Error fetching Hash Ribbon data, skipping this indicator\")\n",
    "        hash_ribbon_signal = 'WAIT'\n",
    "        hash_ribbon_weight = 0\n",
    "    else:\n",
    "        if hashrate_30d_ma > hashrate_60d_ma:\n",
    "            hash_ribbon_signal = 'BUY'\n",
    "        else:\n",
    "            hash_ribbon_signal = 'SELL'\n",
    "        hash_ribbon_weight = weights['Hash Ribbon']\n",
    "\n",
    "    # Volume indicator\n",
    "    volume = calculate_volume(ticker_df)\n",
    "    if volume.iloc[-1] > volume.iloc[-2]:\n",
    "        volume_signal = 'BUY'\n",
    "    else:\n",
    "        volume_signal = 'SELL'\n",
    "    volume_weight = weights['Volume']\n",
    "\n",
    "    # UTXO metrics indicator\n",
    "     # Add UTXO metrics indicator\n",
    "    utxo_signal = 'BUY' if get_utxo_metrics(ticker_df)['vortex_pos'].iloc[-1] <=\\\n",
    "                    UTXO_MULTIPLIER * close_prices.iloc[-1] else 'SELL'\n",
    "    utxo_weight = weights['UTXO Metrics']\n",
    "\n",
    "    # BTC Energy Value Oscillator indicator\n",
    "    btc_ev_oscillator = get_btc_energy_value_oscillator(ticker_df)\n",
    "    if btc_ev_oscillator < BTC_EV_OSCILLATOR_BUY_THRESHOLD:\n",
    "        btc_ev_oscillator_signal = 'BUY'\n",
    "    else:\n",
    "        btc_ev_oscillator_signal = 'SELL'\n",
    "    btc_ev_oscillator_weight = weights['BTC Energy Value Oscillator']\n",
    "\n",
    "    # Metcalfe's Law indicator\n",
    "    metcalfe_ratio = get_metcalfe_law(ticker_df)\n",
    "    if metcalfe_ratio <= METCALFE_MULTIPLIER * close_prices.iloc[-1]:\n",
    "        metcalfe_signal = 'BUY'\n",
    "    else:\n",
    "        metcalfe_signal = 'SELL'\n",
    "    metcalfe_weight = weights[\"Metcalfe's Law\"]\n",
    "\n",
    "    # Puell Multiple indicator\n",
    "    puell_ratio = get_puell_multiple(ticker_df)\n",
    "    if puell_ratio < threshold:\n",
    "        puell_signal = 'BUY'\n",
    "    else:\n",
    "        puell_signal = 'SELL'\n",
    "    puell_weight = weights['Puell Multiple']\n",
    "\n",
    "    # Calculate overall score and recommendation\n",
    "    score = (rsi_weight * rsi) + (macd_weight * macd[0]) + (bb_weight * ((close_prices - bb_lower) / (bb_upper - bb_lower))) + \\\n",
    "            (hash_ribbon_weight * (hash_ribbon_signal == 'BUY')) + (volume_weight * (volume_signal == 'BUY')) + \\\n",
    "            (utxo_weight * (utxo_signal == 'BUY')) + (btc_ev_oscillator_weight * (btc_ev_oscillator_signal == 'BUY')) + \\\n",
    "            (metcalfe_weight * (metcalfe_signal == 'BUY')) + (puell_weight * (puell_signal == 'BUY'))\n",
    "\n",
    "    if score.values[0] >= 5:\n",
    "        return 'STRONG BUY'\n",
    "    elif score.values[0] >= 3:\n",
    "        return 'BUY'\n",
    "    elif score.values[0] <= -5:\n",
    "        return 'STRONG SELL'\n",
    "    elif score.values[0] <= -3:\n",
    "        return 'SELL'\n",
    "    else:\n",
    "        return 'HOLD'"
   ]
  },
  {
   "cell_type": "code",
   "execution_count": 26,
   "id": "8c961fb3",
   "metadata": {},
   "outputs": [],
   "source": [
    "def optimize_parameters(df):\n",
    "    def objective_function(params, *args):\n",
    "        fast_period, slow_period = int(params[0]), int(params[1])\n",
    "        ticker_data = args[0]\n",
    "        trade_rec = get_trade_recommendation(df, fast_period, slow_period, weights, threshold)\n",
    "\n",
    "        # Asumiendo una estrategia de retorno simple (puede ser modificada según necesidades)\n",
    "        returns = (ticker_data['close'].pct_change() * (trade_rec == 'BUY')).cumsum()\n",
    "        return -returns.iloc[-1]  # Maximizar el retorno\n",
    "\n",
    "    # Buscar los parámetros óptimos usando la función 'brute' de SciPy\n",
    "    optimization_result = brute(\n",
    "        objective_function,\n",
    "        (\n",
    "            (OPTIMIZATION_PERIODS[0], OPTIMIZATION_PERIODS[1]),  # Rango para el período rápido de MACD\n",
    "            (OPTIMIZATION_PERIODS[0], OPTIMIZATION_PERIODS[2]),  # Rango para el período lento de MACD\n",
    "        ),\n",
    "        args=(df,),\n",
    "        full_output=True,\n",
    "        finish=None,  # No realizar optimización adicional\n",
    "    )\n",
    "\n",
    "    optimal_fast_period, optimal_slow_period = int(optimization_result[0][0]), int(optimization_result[0][1])\n",
    "    return optimal_fast_period, optimal_slow_period"
   ]
  },
  {
   "cell_type": "code",
   "execution_count": 31,
   "id": "b6a557df",
   "metadata": {},
   "outputs": [],
   "source": [
    "fast_period, slow_period = optimize_parameters(df)\n",
    "# Función principal\n",
    "def run_bot_for_ticker(ccxt_ticker, trading_ticker):\n",
    "    ticker_data = fetch_data(ccxt_ticker)\n",
    "    if ticker_data is not None:\n",
    "        optimal_fast_period, optimal_slow_period = optimize_parameters(ticker_data)\n",
    "        trade_rec_type = get_trade_recommendation(ticker_data, fast_period, slow_period, weights, threshold)\n",
    "        print(f'{datetime.now().strftime(\"%d/%m/%Y %H:%M:%S\")}  TRADING RECOMMENDATION: {trade_rec_type}')\n",
    "        \n",
    "        # Ejecutar órdenes, gestión de riesgos, stop-loss y take-profit aquí\n",
    "        # ...\n",
    "        \n",
    "        return trade_rec_type\n",
    "    else:\n",
    "        print(\"No se pudo obtener datos del ticker.\")\n",
    "        return None"
   ]
  },
  {
   "cell_type": "code",
   "execution_count": 32,
   "id": "a23a5545",
   "metadata": {},
   "outputs": [
    {
     "name": "stdout",
     "output_type": "stream",
     "text": [
      "11/04/2023 21:01:28  TRADING RECOMMENDATION: HOLD\n"
     ]
    },
    {
     "data": {
      "text/plain": [
       "'HOLD'"
      ]
     },
     "execution_count": 32,
     "metadata": {},
     "output_type": "execute_result"
    }
   ],
   "source": [
    "# Ejecutar el bot\n",
    "UTXO_MULTIPLIER = 2\n",
    "run_bot_for_ticker(CCXT_TICKER_NAME, TRADING_TICKER_NAME)"
   ]
  },
  {
   "cell_type": "code",
   "execution_count": null,
   "id": "69b18124",
   "metadata": {},
   "outputs": [],
   "source": []
  },
  {
   "cell_type": "code",
   "execution_count": null,
   "id": "66134583",
   "metadata": {},
   "outputs": [],
   "source": []
  },
  {
   "cell_type": "code",
   "execution_count": null,
   "id": "1c3998c6",
   "metadata": {},
   "outputs": [],
   "source": []
  },
  {
   "cell_type": "code",
   "execution_count": null,
   "id": "bc402699",
   "metadata": {},
   "outputs": [],
   "source": []
  },
  {
   "cell_type": "code",
   "execution_count": null,
   "id": "7f03cc33",
   "metadata": {},
   "outputs": [],
   "source": []
  },
  {
   "cell_type": "code",
   "execution_count": null,
   "id": "3339c8e0",
   "metadata": {},
   "outputs": [],
   "source": []
  },
  {
   "cell_type": "code",
   "execution_count": null,
   "id": "f1471585",
   "metadata": {},
   "outputs": [],
   "source": []
  },
  {
   "cell_type": "code",
   "execution_count": null,
   "id": "769c9538",
   "metadata": {},
   "outputs": [],
   "source": []
  },
  {
   "cell_type": "code",
   "execution_count": null,
   "id": "0641ada8",
   "metadata": {},
   "outputs": [],
   "source": []
  },
  {
   "cell_type": "code",
   "execution_count": null,
   "id": "6d32ce58",
   "metadata": {},
   "outputs": [],
   "source": []
  },
  {
   "cell_type": "code",
   "execution_count": null,
   "id": "bf2d55bf",
   "metadata": {},
   "outputs": [],
   "source": []
  },
  {
   "cell_type": "code",
   "execution_count": null,
   "id": "e49041f2",
   "metadata": {},
   "outputs": [],
   "source": []
  },
  {
   "cell_type": "code",
   "execution_count": null,
   "id": "5c178d66",
   "metadata": {},
   "outputs": [],
   "source": []
  },
  {
   "cell_type": "code",
   "execution_count": null,
   "id": "b40762a8",
   "metadata": {},
   "outputs": [],
   "source": []
  },
  {
   "cell_type": "code",
   "execution_count": null,
   "id": "b262db3a",
   "metadata": {},
   "outputs": [],
   "source": []
  },
  {
   "cell_type": "code",
   "execution_count": null,
   "id": "e3d7bf66",
   "metadata": {},
   "outputs": [],
   "source": []
  },
  {
   "cell_type": "code",
   "execution_count": null,
   "id": "c991d98e",
   "metadata": {},
   "outputs": [],
   "source": []
  },
  {
   "cell_type": "code",
   "execution_count": null,
   "id": "2e79ab39",
   "metadata": {},
   "outputs": [],
   "source": []
  },
  {
   "cell_type": "code",
   "execution_count": null,
   "id": "5d4196b0",
   "metadata": {},
   "outputs": [],
   "source": []
  },
  {
   "cell_type": "code",
   "execution_count": null,
   "id": "d05c9a4e",
   "metadata": {},
   "outputs": [],
   "source": []
  },
  {
   "cell_type": "code",
   "execution_count": null,
   "id": "8eb405d8",
   "metadata": {},
   "outputs": [],
   "source": []
  },
  {
   "cell_type": "code",
   "execution_count": null,
   "id": "c5051907",
   "metadata": {},
   "outputs": [],
   "source": []
  },
  {
   "cell_type": "code",
   "execution_count": null,
   "id": "bf6de836",
   "metadata": {},
   "outputs": [],
   "source": []
  },
  {
   "cell_type": "code",
   "execution_count": null,
   "id": "15c9c44d",
   "metadata": {},
   "outputs": [],
   "source": []
  },
  {
   "cell_type": "code",
   "execution_count": null,
   "id": "a1674cda",
   "metadata": {},
   "outputs": [],
   "source": []
  },
  {
   "cell_type": "code",
   "execution_count": null,
   "id": "1200171c",
   "metadata": {},
   "outputs": [],
   "source": []
  },
  {
   "cell_type": "code",
   "execution_count": null,
   "id": "f30893e4",
   "metadata": {},
   "outputs": [],
   "source": [
    "def get_trade_recommendation(ticker_df, fast_period, slow_period):\n",
    "    close_prices = ticker_df['close']\n",
    "\n",
    "    # RSI\n",
    "    delta = close_prices.diff().dropna()\n",
    "    gain = delta.where(delta > 0, 0)\n",
    "    loss = -delta.where(delta < 0, 0)\n",
    "    avg_gain = gain.rolling(window=RSI_PERIOD).mean()\n",
    "    avg_loss = loss.rolling(window=RSI_PERIOD).mean()\n",
    "    rs = avg_gain / avg_loss\n",
    "    rsi = 100 - (100 / (1 + rs))\n",
    "\n",
    "    # MACD\n",
    "    ema_fast = close_prices.ewm(span=fast_period).mean()\n",
    "    ema_slow = close_prices.ewm(span=slow_period).mean()\n",
    "    macd = ema_fast - ema_slow\n",
    "    signal_line = macd.ewm(span=9).mean()\n",
    "\n",
    "    # Bollinger Bands\n",
    "    bb_middle = close_prices.rolling(window=BB_PERIOD).mean()\n",
    "    bb_std = close_prices.rolling(window=BB_PERIOD).std()\n",
    "    bb_upper = bb_middle + (BB_STD_DEV * bb_std)\n",
    "    bb_lower = bb_middle - (BB_STD_DEV * bb_std)\n",
    "\n",
    "    # Condición de compra\n",
    "    buy_condition = (\n",
    "        (rsi.iloc[-1] <= RSI_OVERSOLD) &\n",
    "        (macd.iloc[-1] > signal_line.iloc[-1]) &\n",
    "        (close_prices.iloc[-1] <= bb_lower.iloc[-1])\n",
    "    )\n",
    "\n",
    "    # Condición de venta\n",
    "    sell_condition = (\n",
    "        (rsi.iloc[-1] >= RSI_OVERBOUGHT) &\n",
    "        (macd.iloc[-1] < signal_line.iloc[-1]) &\n",
    "        (close_prices.iloc[-1] >= bb_upper.iloc[-1])\n",
    "    )\n",
    "\n",
    "    if buy_condition:\n",
    "        return 'BUY'\n",
    "    elif sell_condition:\n",
    "        return 'SELL'\n",
    "    else:\n",
    "        return 'WAIT'\n",
    "    \n",
    "    # Add Hash Ribbon indicator\n",
    "    hashrate_30d_ma, hashrate_60d_ma = get_hash_ribbon_data()\n",
    "    if hashrate_30d_ma is None or hashrate_60d_ma is None:\n",
    "        print(\"Error fetching Hash Ribbon data, skipping this indicator\")\n",
    "    else:\n",
    "        if hashrate_30d_ma > hashrate_60d_ma:\n",
    "            hash_ribbon_signal = 'BUY'\n",
    "        else:\n",
    "            hash_ribbon_signal = 'SELL'\n",
    "    \n",
    "    # Add Volume indicator\n",
    "    volume = calculate_volume(ticker_df)\n",
    "    volume_signal = 'BUY' if volume.iloc[-1] > volume.iloc[-2] else 'SELL'\n",
    "    \n",
    "     # Add UTXO metrics indicator\n",
    "    utxo = get_utxo()\n",
    "    utxo_signal = 'BUY' if utxo <= UTXO_MULTIPLIER * close_prices.iloc[-1] else 'SELL'\n",
    "\n",
    "    # Add BTC Energy Value Oscillator indicator\n",
    "    btc_ev_oscillator = get_btc_energy_value_oscillator()\n",
    "    btc_ev_oscillator_signal = 'BUY' if btc_ev_oscillator < BTC_EV_OSCILLATOR_BUY_THRESHOLD else 'SELL'\n",
    "\n",
    "    # Add Metcalfe's Law indicator\n",
    "    metcalfe_ratio = get_metcalfe_law(ticker_df)\n",
    "    metcalfe_signal = 'BUY' if metcalfe_ratio <= METCALFE_MULTIPLIER * close_prices.iloc[-1] else 'SELL'\n",
    "\n",
    "   \n",
    "        # Add Puell Multiple indicator\n",
    "    puell_multiple = get_puell_multiple()\n",
    "    if puell_multiple is None:\n",
    "        print(\"Error fetching Puell Multiple data, skipping this indicator\")\n",
    "    else:\n",
    "        if puell_multiple > 4:\n",
    "            puell_multiple_signal = 'SELL'\n",
    "            puell_multiple_buy = False\n",
    "        elif puell_multiple < 1:\n",
    "            puell_multiple_signal = 'BUY'\n",
    "            puell_multiple_buy = True\n",
    "        else:\n",
    "            puell_multiple_signal = 'WAIT'\n",
    "\n",
    "    # Add BTC energy value oscillator indicator\n",
    "    energy_value_oscillator = get_btc_energy_value_oscillator()\n",
    "    if energy_value_oscillator is None:\n",
    "        print(\"Error fetching Energy Value Oscillator data, skipping this indicator\")\n",
    "    else:\n",
    "        if energy_value_oscillator > 3:\n",
    "            energy_value_oscillator_signal = 'SELL'\n",
    "        elif energy_value_oscillator < -2:\n",
    "            energy_value_oscillator_signal = 'BUY'\n",
    "        else:\n",
    "            energy_value_oscillator_signal = 'WAIT'\n",
    "\n",
    "    # Add UTXO metrics indicator\n",
    "    utxo = get_utxo_metrics()\n",
    "    if utxo is None:\n",
    "        print(\"Error fetching UTXO metrics data, skipping this indicator\")\n",
    "    else:\n",
    "        if utxo['utxo_1w_change'] < -15 and utxo['utxo_3m_change'] < -15 and utxo['utxo_6m_change'] < -15:\n",
    "            utxo_signal = 'BUY'\n",
    "            utxo_buy = True\n",
    "        elif utxo['utxo_1w_change'] > 30 and utxo['utxo_3m_change'] > 30 and utxo['utxo_6m_change'] > 30:\n",
    "            utxo_signal = 'SELL'\n",
    "            utxo_buy = False\n",
    "        else:\n",
    "            utxo_signal = 'WAIT'\n",
    "\n",
    "    # Combine all signals\n",
    "    if rsi_signal == 'BUY' and macd_signal == 'BUY' and hash_ribbon_signal == 'BUY'\\\n",
    "                        and volume_signal == 'BUY' and puell_multiple_signal == 'BUY'\\\n",
    "                        and energy_value_oscillator_signal == 'BUY' and utxo_signal == 'BUY':\n",
    "        final_signal = 'BUY'\n",
    "    elif rsi_signal == 'SELL' and macd_signal == 'SELL' and hash_ribbon_signal == 'SELL'\\\n",
    "                        and volume_signal == 'SELL' and puell_multiple_signal == 'SELL' and energy_value_oscillator_signal == 'SELL' and utxo_signal == 'SELL':\n",
    "        final_signal = 'SELL'\n",
    "    else:\n",
    "        final_signal = 'WAIT'\n",
    "\n",
    "    return final_signal"
   ]
  }
 ],
 "metadata": {
  "kernelspec": {
   "display_name": "Python 3 (ipykernel)",
   "language": "python",
   "name": "python3"
  },
  "language_info": {
   "codemirror_mode": {
    "name": "ipython",
    "version": 3
   },
   "file_extension": ".py",
   "mimetype": "text/x-python",
   "name": "python",
   "nbconvert_exporter": "python",
   "pygments_lexer": "ipython3",
   "version": "3.9.13"
  }
 },
 "nbformat": 4,
 "nbformat_minor": 5
}
